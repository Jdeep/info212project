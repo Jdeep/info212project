{
 "cells": [
  {
   "cell_type": "markdown",
   "metadata": {},
   "source": [
    "### College of Computing and Informatics, Drexel University\n",
    "### INFO 212: Data Science Programming I, Spring 2018\n",
    "---\n",
    "\n",
    "## Project Introduction Report\n",
    "\n",
    "## Project Title: Russian Troll Tweets\n",
    "\n",
    "## Student(s): Jasdeep Glamour and Ngan Phan\n",
    "\n",
    "#### Date: 5/21/18\n",
    "---"
   ]
  },
  {
   "cell_type": "markdown",
   "metadata": {},
   "source": [
    "#### Purpose\n",
    "---\n",
    "You are asked to introduce your project in this report and present in the class. This introduction report should describe the problem, the data sets, and the goal(s) of the project. Use the Project Requirements at the end of this notebook for choosing and scoping your project. \n",
    "\n",
    "This report must be submitted to the instructor before Monday, June 4, 2018."
   ]
  },
  {
   "cell_type": "markdown",
   "metadata": {},
   "source": [
    "### 1. Introduction\n",
    "---\n",
    "*(Introduce the project, describe the objectives, and present the results. This section will provide an overview of the entire project including the description of the data sets and the specific data analytics methods and techniques the team used for analyzing the data to address the problem. Highlight the key findings.)* "
   ]
  },
  {
   "cell_type": "markdown",
   "metadata": {},
   "source": [
    "#### Intro <br>\n",
    "The dataset we chose is about the  Russian Tweets During the 2016 election. About 200,000 tweet by about 3,000 users were collected by NBC, to analyzed and try to develop characteristics about Russian Tweets. The data collected was broken into two csv’s, the first users.csv contains the 3,000 users associated with Tweets and tweets.csv which contains the 200,000 tweets. As for the data itself it has a great deal of missing and incomplete data. Each row in tweets.csv has missing or incomplete data in it. \n",
    "\n",
    "#### Objectives<br>\n",
    "The objective of this project is to analyze the tweets and users, to see if there’s any shared common characteristics among the users and  Russian Tweets. So, in future election we can use this data to predict and mitigate future social media attacks. This data can also be used to see if any outside influences or large corporation are trying to sway the general public’s view on certain topics related or unrelated to politics. \n",
    "Using libraries such as word cloud, plotly, and pandas we will be visualizing data relating to the most used words in tweets, most popular hashtags,  and when the tweets were tweeted. In relation to the user we will be looking at where the user is from, when the account were created, their friend count and so on. We will create word clouds based on location/date account created and the most common used words. Looking at the most popular topics people are tweeting along with the date. A few examples of how we will clean the dataset are removing all  emojis /other special characters and moving them to another  column for analysis, and by replacing all the empty data in retweets_count and replacing it with 0’s and replacing all categorical data with a numerical scale.\n",
    "<br> <br>\n",
    "During the analysis of the Twitter dataset, we hope to have a better understanding of what Russian “Troll Tweet” is and how to identify it. Also, we hope to analyze and understand if the dataset we chose truly focused solely on Russian Tweets and user accounts. \n"
   ]
  },
  {
   "cell_type": "markdown",
   "metadata": {},
   "source": [
    "### 2. Problem Definition\n",
    "---\n",
    "*(Define the problem that will be solved in this data analytics project. Does the problem have stakeholders? Where does the problem come from? Who would be benefited from the solutions presented in this project? Use formal languages and notations to define the problem as much as possible.)*"
   ]
  },
  {
   "cell_type": "markdown",
   "metadata": {},
   "source": [
    "As Witnessed in the previous election Russia played a big role in the outcome of the election. Russia used social media platforms such as Twitter in influence voters views on the candidates in the election. Our goal is to disect Russian tweets during the 2016 election to try and understand the tweets that shaped the election. We would like to see if the tweets share any characteristics, so that in the future it will be easier to identify these tweets and filter them out. \n",
    "There isn't one specific stakeholder, but the American public along with socials media platforms would greatly benefit from this project.\n",
    "\n",
    "As far as the data goes, a great deal of cleaning will be necessary as stated earlier. "
   ]
  },
  {
   "cell_type": "markdown",
   "metadata": {},
   "source": [
    "### 3. Data Sources\n",
    "---\n",
    "*(Describe the origin of the data sources. What is the format of the original data? How to access the data?)*"
   ]
  },
  {
   "cell_type": "markdown",
   "metadata": {},
   "source": [
    "The data source is a csv of Russian Troll Tweets that may have influenced the 2016 election. The accounts included in the \n",
    "dataset were released by twitter. The data is broken up into two files tweets.csv contains the 200,000 tweets released by twitter and the user.csv contains the almost 3,000 'Russian' accounts. The data can be downloaded from the following link: https://www.kaggle.com/vikasg/russian-troll-tweets."
   ]
  },
  {
   "cell_type": "markdown",
   "metadata": {},
   "source": [
    "### 4. Other Things you Would Like to Describe\n",
    "---\n",
    "*(Is there anything you would like to describe as well? For example, preliminary results...)*"
   ]
  },
  {
   "cell_type": "markdown",
   "metadata": {},
   "source": [
    "#### Most popular words in Tweets\n",
    "<img src='./popular_words.png'>\n",
    "#### Most popular hashtags\n",
    "<img src='./popular_hashtag.png'>\n",
    "#### Most popular words in User's description\n",
    "<img src='./popular_description.png'>"
   ]
  },
  {
   "cell_type": "markdown",
   "metadata": {},
   "source": [
    "---\n",
    "(*Use the following requirements for writing your reports. DO NOT DELETE THE CELLS BELLOW*)"
   ]
  },
  {
   "cell_type": "markdown",
   "metadata": {},
   "source": [
    "# Project Requirements\n",
    "\n",
    "This final project examines the level of knowledge the students have learned from the course. The following course outcomes will be checked against the content of the report:\n",
    "\n",
    "Upon successful completion of this course, a student will be able to:\n",
    "* Describe the main steps and key issues in the process of acquiring and preparing data for data analytics.\n",
    "* Set up data analysis environment by integrating commonly used practical tools and programming packages.   \n",
    "* Explain different types of data storages and formats and apply appropriate tools for extracting and transforming data.\n",
    "* Create interactive and programming code for cleansing, wrangling, reshaping, visualizing and analyzing various data sets. \n",
    "* Explain the concepts of aggregation and grouping, and apply tools and write programs to aggregate and group data.\n",
    "\n",
    "** Marking will be foucsed on both presentation and content.** \n",
    "\n",
    "## Written Presentation Requirements\n",
    "The report will be judged on the basis of visual appearance, grammatical correctness, and quality of writing, as well as its contents. Please make sure that the text of your report is well-structured, using paragraphs, full sentences, and other features of well-written presentation.\n",
    "\n",
    "## Technical Content:\n",
    "* Is the problem well defined and described thoroughly?\n",
    "* Is the size and complexity of the data set used in this project comparable to that of the example data sets used in the lectures and assignments?\n",
    "* Did the report describe the charactriatics of the data?\n",
    "* Did the report describe the goals of the data analysis?\n",
    "* Did the analysis use plotting methods for visualization? Does the visualization convey meaningful messages?\n",
    "* Did the analysis use wrangling, cleaning, and preparation methods? Does the work on wrangling, cleaning, and preparation demonstrate the student's knowlegde about these topics covered in this course?\n",
    "* Did the analysis conduct aggretation and create descriptive statistics? Does the work on aggregation and descriptive statistics demonstrate the student's knowlegde about these topics covered in this course?\n",
    "* Only those projects that exceed the sophistication of the final data analysis examples and assignments can be marked as the highest level of grade.\n",
    "* Overall, what is the rating of this project?"
   ]
  },
  {
   "cell_type": "code",
   "execution_count": null,
   "metadata": {},
   "outputs": [],
   "source": []
  }
 ],
 "metadata": {
  "kernelspec": {
   "display_name": "Python 3",
   "language": "python",
   "name": "python3"
  },
  "language_info": {
   "codemirror_mode": {
    "name": "ipython",
    "version": 3
   },
   "file_extension": ".py",
   "mimetype": "text/x-python",
   "name": "python",
   "nbconvert_exporter": "python",
   "pygments_lexer": "ipython3",
   "version": "3.6.4"
  }
 },
 "nbformat": 4,
 "nbformat_minor": 2
}
